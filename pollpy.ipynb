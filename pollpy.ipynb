{
 "cells": [
  {
   "cell_type": "code",
   "execution_count": 26,
   "metadata": {},
   "outputs": [],
   "source": [
    "import csv\n",
    "import os"
   ]
  },
  {
   "cell_type": "code",
   "execution_count": 27,
   "metadata": {},
   "outputs": [],
   "source": [
    "inputFile=\"C:/Users/ppruc/Desktop/Section 1 work/resources/election_data.csv\""
   ]
  },
  {
   "cell_type": "code",
   "execution_count": 28,
   "metadata": {},
   "outputs": [],
   "source": [
    "outputFile=\"C:/Users/ppruc/Desktop/Section 1 work/resources/election_results.txt\""
   ]
  },
  {
   "cell_type": "code",
   "execution_count": 29,
   "metadata": {},
   "outputs": [],
   "source": [
    "totalVote=0\n",
    "candidateOption=[]\n",
    "candidateVote={}\n",
    "winningCandidate=''\n",
    "winningCount=0\n"
   ]
  },
  {
   "cell_type": "code",
   "execution_count": 32,
   "metadata": {},
   "outputs": [
    {
     "name": "stdout",
     "output_type": "stream",
     "text": [
      "\n",
      "Election Results\n",
      "---------------------\n",
      "Tottal votes= 10563003\n",
      "---------------------\n",
      "\n",
      "Khan:63.000%(6654693)\n",
      "\n",
      "Correy:20.000%(2112600)\n",
      "\n",
      "Li:14.000%(1478820)\n",
      "\n",
      "O'Tooley:3.000%(316890)\n",
      "\n",
      "----------------------\n",
      "Winner is O'Tooley\n",
      "----------------------\n",
      "\n"
     ]
    }
   ],
   "source": [
    "with open(inputFile) as csvfile:\n",
    "    reader=csv.DictReader(csvfile)\n",
    "    \n",
    "    for row in reader:\n",
    "        totalVote=totalVote+1\n",
    "        candidateName=row[\"Candidate\"]\n",
    "        \n",
    "        if candidateName not in candidateOption:\n",
    "            candidateOption.append(candidateName)\n",
    "            candidateVote[candidateName]=0\n",
    "        \n",
    "        candidateVote[candidateName]=candidateVote[candidateName]+1\n",
    "        \n",
    "with open(outputFile, 'w')as txt_file:\n",
    "    \n",
    "    electionResults=(\n",
    "        f\"\\nElection Results\\n\"\n",
    "        f\"---------------------\\n\"\n",
    "        f\"Tottal votes= {totalVote}\\n\"\n",
    "        f\"---------------------\\n\"\n",
    "    )\n",
    "    print(electionResults)\n",
    "    txt_file.write(electionResults)\n",
    "    \n",
    "    for candidate in candidateVote:\n",
    "        votes=candidateVote.get(candidate)\n",
    "        votePercent=float(votes)/float(totalVote)*100\n",
    "        \n",
    "        if(votes>winningCount):\n",
    "            WinningCount=votes\n",
    "            winningCandidate=candidate\n",
    "        voteOutput=f\"{candidate}:{votePercent:.3f}%({votes})\\n\"\n",
    "        print(voteOutput)\n",
    "        txt_file.write(voteOutput)\n",
    "    winningSummary=(\n",
    "        f\"----------------------\\n\"\n",
    "        f\"Winner is {winningCandidate}\\n\"\n",
    "        f\"----------------------\\n\"\n",
    "    )\n",
    "    print(winningSummary)\n",
    "    txt_file.write(winningSummary)"
   ]
  },
  {
   "cell_type": "code",
   "execution_count": null,
   "metadata": {},
   "outputs": [],
   "source": []
  },
  {
   "cell_type": "code",
   "execution_count": null,
   "metadata": {},
   "outputs": [],
   "source": []
  }
 ],
 "metadata": {
  "kernelspec": {
   "display_name": "Python 3",
   "language": "python",
   "name": "python3"
  },
  "language_info": {
   "codemirror_mode": {
    "name": "ipython",
    "version": 3
   },
   "file_extension": ".py",
   "mimetype": "text/x-python",
   "name": "python",
   "nbconvert_exporter": "python",
   "pygments_lexer": "ipython3",
   "version": "3.7.3"
  }
 },
 "nbformat": 4,
 "nbformat_minor": 4
}
