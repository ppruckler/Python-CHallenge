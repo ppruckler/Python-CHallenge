{
 "cells": [
  {
   "cell_type": "code",
   "execution_count": 80,
   "metadata": {},
   "outputs": [],
   "source": [
    "import csv\n",
    "import os\n"
   ]
  },
  {
   "cell_type": "code",
   "execution_count": 81,
   "metadata": {},
   "outputs": [],
   "source": [
    "inputFile=\"C:/Users/ppruc/Desktop/Section 1 work/resources/budget_data.csv\""
   ]
  },
  {
   "cell_type": "code",
   "execution_count": 82,
   "metadata": {},
   "outputs": [],
   "source": [
    "outputFile=\"C:/Users/ppruc/Desktop/Section 1 work/resources/BankAnalysis.txt\""
   ]
  },
  {
   "cell_type": "code",
   "execution_count": 83,
   "metadata": {},
   "outputs": [],
   "source": [
    "totalMonth=0\n",
    "prevRev=0\n",
    "MonthChange=[]\n",
    "revChangeList=[]\n",
    "greatestInc=['',0]\n",
    "greatestDec=['',99999999999]\n",
    "totalRev=0\n"
   ]
  },
  {
   "cell_type": "code",
   "execution_count": 84,
   "metadata": {},
   "outputs": [],
   "source": [
    "with open(inputFile) as csvfile:\n",
    "    reader=csv.DictReader(csvfile)\n",
    "    \n",
    "    for row in reader:\n",
    "        totalMonth=totalMonth+1\n",
    "        totalRev=totalRev+int(row['Profit/Losses'])\n",
    "        revChange=int(row['Profit/Losses'])-prevRev\n",
    "        prevRev=int(row[\"Profit/Losses\"])\n",
    "        revChangeList=revChangeList+[revChange]\n",
    "        MonthChange=MonthChange=[row[\"Date\"]]\n",
    "        \n",
    "        if(revChange>greatestInc[1]):\n",
    "            greatestInc[0]=row[\"Date\"]\n",
    "            greatestInc[1]=revChange\n",
    "            \n",
    "        if(revChange<greatestDec[1]):\n",
    "            greatestDec[0]=row[\"Date\"]\n",
    "            greatestDec[1]=revChange\n",
    "revAverage=sum(revChangeList)/len(revChangeList)"
   ]
  },
  {
   "cell_type": "code",
   "execution_count": 85,
   "metadata": {},
   "outputs": [],
   "source": [
    "output=(\n",
    "    f\"\\nFinancial Summary\\n\"\n",
    "    f\"---------------------\\n\"\n",
    "    f\"total months= {totalMonth}\\n\"\n",
    "    f\"total revenue= ${totalRev}\\n\"\n",
    "    f\"average revenue change= ${revAverage}\\n\"\n",
    "    f\"greastest increase in revenue= {greatestInc[0]} ${greatestInc[1]}\\n\"\n",
    "    f\"greastest decrease in revenue= {greatestDec[0]} ${greatestDec[1]}\\n\"\n",
    ")"
   ]
  },
  {
   "cell_type": "code",
   "execution_count": 86,
   "metadata": {},
   "outputs": [
    {
     "name": "stdout",
     "output_type": "stream",
     "text": [
      "\n",
      "Financial Summary\n",
      "---------------------\n",
      "total months= 86\n",
      "total revenue= $38382578\n",
      "average revenue change= $7803.476744186047\n",
      "greastest increase in revenue= Feb-2012 $1926159\n",
      "greastest decrease in revenue= Sep-2013 $-2196167\n",
      "\n"
     ]
    }
   ],
   "source": [
    "print(output)"
   ]
  },
  {
   "cell_type": "code",
   "execution_count": 87,
   "metadata": {},
   "outputs": [],
   "source": [
    "with open(outputFile, 'w') as txt_file:\n",
    "    txt_file.write(output)\n"
   ]
  },
  {
   "cell_type": "code",
   "execution_count": null,
   "metadata": {},
   "outputs": [],
   "source": []
  }
 ],
 "metadata": {
  "kernelspec": {
   "display_name": "Python 3",
   "language": "python",
   "name": "python3"
  },
  "language_info": {
   "codemirror_mode": {
    "name": "ipython",
    "version": 3
   },
   "file_extension": ".py",
   "mimetype": "text/x-python",
   "name": "python",
   "nbconvert_exporter": "python",
   "pygments_lexer": "ipython3",
   "version": "3.7.3"
  }
 },
 "nbformat": 4,
 "nbformat_minor": 4
}
